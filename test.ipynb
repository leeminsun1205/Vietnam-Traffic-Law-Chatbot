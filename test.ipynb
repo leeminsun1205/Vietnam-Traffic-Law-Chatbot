{
 "cells": [
  {
   "cell_type": "code",
   "execution_count": 6,
   "id": "6b5d502a",
   "metadata": {},
   "outputs": [],
   "source": [
    "from langchain_community.document_loaders import PyPDFLoader\n",
    "from langchain.text_splitter import RecursiveCharacterTextSplitter"
   ]
  },
  {
   "cell_type": "code",
   "execution_count": 3,
   "id": "5217bd61",
   "metadata": {},
   "outputs": [],
   "source": [
    "path = '/home/minsun/Documents/Implementing Project/CS431.P22/CS221.P12.pdf'\n",
    "loader = PyPDFLoader(path)\n",
    "documents = loader.load()"
   ]
  },
  {
   "cell_type": "code",
   "execution_count": 5,
   "id": "546e1123",
   "metadata": {},
   "outputs": [
    {
     "name": "stdout",
     "output_type": "stream",
     "text": [
      "[Document(metadata={'producer': 'Microsoft® Word 2016', 'creator': 'Microsoft® Word 2016', 'creationdate': '2023-05-15T12:15:47+07:00', 'author': 'Tien Dung Mai', 'moddate': '2023-05-15T12:15:47+07:00', 'source': '/home/minsun/Documents/Implementing Project/CS431.P22/CS221.P12.pdf', 'total_pages': 6, 'page': 0, 'page_label': '1'}, page_content='1 \\n \\n \\n \\nĐẠI HỌC QUỐC GIA TP. HỒ CHÍ MINH \\nTRƯỜNG ĐẠI HỌC CÔNG NGHỆ THÔNG TIN \\n \\n \\n \\nĐỀ CƯƠNG MÔN HỌC \\n \\nMôn: XỬ LÝ NGÔN NGỮ TỰ NHIÊN \\n(Tiếng Anh:  NATURAL LANGUAGE PROCESSING) \\n \\nChương trình đào tạo:  \\nCử nhân Trí tuệ nhân tạo; \\nCử nhân Khoa học máy tính. \\n \\n(Bản Cập nhật tháng 01 năm 2023) \\n \\n \\n \\n \\nNgười biên soạn: Nguyễn Thị Quý \\n \\n \\n \\nTP. HCM – 2023'), Document(metadata={'producer': 'Microsoft® Word 2016', 'creator': 'Microsoft® Word 2016', 'creationdate': '2023-05-15T12:15:47+07:00', 'author': 'Tien Dung Mai', 'moddate': '2023-05-15T12:15:47+07:00', 'source': '/home/minsun/Documents/Implementing Project/CS431.P22/CS221.P12.pdf', 'total_pages': 6, 'page': 1, 'page_label': '2'}, page_content='1 \\n \\n1. THÔNG TIN CHUNG  \\n 1.1 Thông tin về giảng viên: \\n- Họ và tên: Nguyễn Thị Quý \\n- Chức danh, học vị: Tiến sĩ. \\n- Email: quynt@uit.edu.vn \\n 1.2. Thông tin về môn học \\nTên môn học (tiếng Việt): Xử lý ngôn ngữ tự nhiên   \\nTên môn học (tiếng Anh): Natural Language Processing  \\nMã môn học: CS221  \\nThuộc khối kiến thức: Đại cương □; Cơ sở nhóm ngành □;  \\nCơ sở ngành □; Chuyên ngành ☑;  \\nTốt nghiệp □ \\n \\nKhoa/Bộ môn phụ trách: Khoa Khoa học Máy tính  \\nGiảng viên phụ trách biên \\nsoạn: \\nTS. Nguyễn Thị Quý \\n  \\n \\nSố tín chỉ: 4  \\nLý thuyết:  3  \\nThực hành:  1  \\nMôn học tiên quyết:   \\nMôn học trước:  Nhập môn lập trình (IT001),  \\nĐại số tuyến tính (MA003),  \\nCấu trúc rời rạc (MA004) \\n \\n2. MÔ TẢ MÔN HỌC  \\nXử lý ngôn ngữ tự nhiên (NLP) nghiên cứu kết hợp hai lĩnh vực Ngôn ngữ học và Khoa học \\nmáy tính nhằm giúp máy tính có thể hiểu ngôn ngữ như con người. Môn học này giới thiệu \\nđến sinh viên những phương thức, thuật toán cơ bản được sử dụng trong nhiều bài toán NLP \\nnhư phân tích cảm xúc, gán nhãn chuỗi, phân tích cú pháp, …  Sinh viên sẽ thực hành áp \\ndụng các thuật toán này trên ngữ liệu để tạo ra các công cụ NLP. \\n3. MỤC TIÊU VÀ CHUẨN ĐẦU RA MÔN HỌC \\n3.1 Mục tiêu môn học: \\n3.1.1. Mục tiêu chung: Trang bị cho người học những kiến thức cơ bản về một số \\nbài toán NLP.'), Document(metadata={'producer': 'Microsoft® Word 2016', 'creator': 'Microsoft® Word 2016', 'creationdate': '2023-05-15T12:15:47+07:00', 'author': 'Tien Dung Mai', 'moddate': '2023-05-15T12:15:47+07:00', 'source': '/home/minsun/Documents/Implementing Project/CS431.P22/CS221.P12.pdf', 'total_pages': 6, 'page': 2, 'page_label': '3'}, page_content='2 \\n \\n3.1.2. Mục tiêu cụ thể \\nSau khi hoàn thành môn học này người học có thể có được các khả năng sau: \\nKý hiệu Mục tiêu môn học \\nCG1 \\nHiểu và nắm vững các khái niệm, các thuật toán, kiến thức tổng quan về \\nNLP. \\nCG2 Áp dụng các thuật toán để xây dựng ứng dụng NLP. \\nCG3 \\nSử dụng các thư viện như NLTK, Gensim, Scikit-learn để xây dựng ứng \\ndụng NLP viết bằng ngôn ngữ lập trình Python \\nCG4 Rèn luyện ngoại ngữ và các kỹ năng nghiên cứu khoa học, làm việc nhóm \\n \\n 3.2 Chuẩn đầu ra. \\nSau khi hoàn thành môn học này, sinh viên có thể: \\n \\nCĐR\\nMH Mô tả CĐRMH \\nÁnh xạ \\nCĐR CTĐT \\nCấp độ \\nCĐRMH về \\nNT, KN, TĐ \\nCLO1 \\nĐánh giá được ưu điểm và nhược điểm của \\ntừng thuật toán máy học áp dụng trên bài \\ntoán NLP. \\nLO3.4 KN4 \\nCLO2 Biết cách chọn đặc trưng, thuật toán máy học \\nphù hợp để giải quyết bài toán NLP cụ thể. \\nLO3.3, \\nLO3.4 KN4 \\nCLO3 Biết cách đánh giá độ chính xác bài toán \\nNLP cụ thể. \\nLO2.2, \\nLO4.3 NT3, KN4 \\nCLO4 \\nVận dụng các kỹ năng của nghiên cứu khoa \\nhọc như đọc bài báo khoa học, thuyết trình, \\nđặt câu hỏi. \\nLO6.2, \\nLO5.2, \\nLO7.1 \\nKN3 \\nCLO5 \\nCài đặt một ứng dụng NLP sử dụng các thư \\nviện như NLTK, Gensim, Scikit-learn, viết \\nbằng ngôn ngữ lập trình Python. \\nLO4.1, \\nLO2.1 KN4 \\nCLO6 Có thái độ, quan điểm và nhận thức đúng đắn \\nvề môn học LO8.2 KN2'), Document(metadata={'producer': 'Microsoft® Word 2016', 'creator': 'Microsoft® Word 2016', 'creationdate': '2023-05-15T12:15:47+07:00', 'author': 'Tien Dung Mai', 'moddate': '2023-05-15T12:15:47+07:00', 'source': '/home/minsun/Documents/Implementing Project/CS431.P22/CS221.P12.pdf', 'total_pages': 6, 'page': 3, 'page_label': '4'}, page_content='3 \\n \\n \\n3.3 Mối quan hệ giữa Mục tiêu và Chuẩn đầu ra: \\nMối quan hệ giữa mục tiêu môn học và chuẩn đầu ra môn học được thể hiện trong ma \\ntrận sau: \\nCác thành phần Mục tiêu Chuẩn đầu ra \\nKiến thức CG1 CLO1, CLO2 \\nKỹ năng CG2, CG3 CLO5, CLO3, CLO4 \\nThái độ CG4 CLO6 \\n \\n4. YÊU CẦU ĐỐI VỚI NGƯỜI HỌC \\n- Dự lớp đầy đủ; \\n- Tham gia tích cực, nghiêm túc các hoạt động thảo luận, thực hành học tập \\ntrên lớp theo yêu cầu và tích cực tự nghiên cứu nội dung môn học theo \\nhướng dẫn; \\n- Thực hiện các bài tập kiểm tra đầy đủ và đúng thời gian quy định. \\n5. NỘI DUNG MÔN HỌC, KẾ HOẠCH GIẢNG DẠY  \\n \\nBuổi Nội dung giảng dạy CĐRMH Hoạt động \\ndạy và học \\nThành \\nphần \\nđánh giá \\n1 Giới thiệu về môn học  \\n- các nội dung giảng dạy \\n- phương pháp học  \\n- tài nguyên học tập \\n- đánh giá môn học  \\nGiới thiệu tổng quan về một số \\nbài toán NLP cơ bản, NLP \\napplications, ngữ liệu \\nCLO1, CLO4  A3 \\n2-4 Phân loại văn bản (t ext \\nclassification): \\nCLO2, CLO3, \\nCLO4, CLO5, \\nCLO6 \\n A3, A4'), Document(metadata={'producer': 'Microsoft® Word 2016', 'creator': 'Microsoft® Word 2016', 'creationdate': '2023-05-15T12:15:47+07:00', 'author': 'Tien Dung Mai', 'moddate': '2023-05-15T12:15:47+07:00', 'source': '/home/minsun/Documents/Implementing Project/CS431.P22/CS221.P12.pdf', 'total_pages': 6, 'page': 4, 'page_label': '5'}, page_content='4 \\n \\n- Sentiment analysis using \\nNaive Bayes , Logistic \\nregression \\n- Feedforward neural \\nnetwork \\n5, 6 \\n \\nVector semantics and static word \\nembeddings \\nCLO2, CLO3, \\nCLO4, CLO5, \\nCLO6 \\n A3, A4 \\n7, 8 Mô hình ngôn ngữ (l anguage \\nmodeling): \\n- N-gram model \\n- Recurrent neural network  \\n(RNN) \\nCLO2, CLO3, \\nCLO4, CLO5, \\nCLO6 \\n A3, A4 \\n9-11 Gán nhãn chuỗi (sequence \\nlabeling problems):  \\n- POS tagging , n amed-\\nentity recognition  (HMM, \\nMEMM, CRF) \\n- Neural sequence labeling \\nCLO2, CLO3, \\nCLO4, CLO5, \\nCLO6 \\n A3, A4 \\n12-14 Phân tích cú pháp (syntax and \\nparsing) \\n- Context-free syntax  \\n- Context-free parsing \\nalgorithms \\n- Dependency parsing  \\nCLO2, CLO3, \\nCLO4, CLO5, \\nCLO6 \\n A3, A4 \\n15 Ôn tập CLO2, CLO3, \\nCLO4, CLO5, \\nCLO6 \\n A3 \\n6. PHƯƠNG PHÁP VÀ PHƯƠNG TIỆN DẠY HỌC \\n- Phương pháp giảng dạy chủ yếu: trình bày các kiến thức nền tảng, hướng dẫn \\nnghiên cứu tài liệu; hướng dẫn thực hành và diễn giải theo chủ đề. \\n- Học liệu: các nguồn tài liệu được sử dụng trên lớp và máy chiếu các slides.'), Document(metadata={'producer': 'Microsoft® Word 2016', 'creator': 'Microsoft® Word 2016', 'creationdate': '2023-05-15T12:15:47+07:00', 'author': 'Tien Dung Mai', 'moddate': '2023-05-15T12:15:47+07:00', 'source': '/home/minsun/Documents/Implementing Project/CS431.P22/CS221.P12.pdf', 'total_pages': 6, 'page': 5, 'page_label': '6'}, page_content='5 \\n \\n7. ĐÁNH GIÁ MÔN HỌC (Course assessment) \\n \\n Thời điểm \\nkiểm tra \\nHình thức \\nKTĐG \\nCông cụ \\nTĐG \\nTrọng \\nsố \\nThang \\nđiểm \\nTiêu chí đánh giá  \\nA1 Quá trình       \\nA2 Giữa kỳ      \\nA3 Thực hành \\nBài tập thực \\nhành \\n 50% 10 \\nSinh viên thuyết trình \\ngiải pháp và cài đặt \\nchương trình minh họa. \\nA4 Cuối kỳ Đồ án cuối kỳ  50% 10  \\n8. TÀI LIỆU THAM KHẢO \\n[1] Speech and Language Processing (3rd ed. draft), Dan Jurafsky and James H. \\nMartin,  2021: https://web.stanford.edu/~jurafsky/slp3/ \\n[2] Natural Language Processing, Jacob Eisenstein, 2018 \\n[3] Natural Language Processing, David Bamman, Spring 2020: \\nhttps://people.ischool.berkeley.edu/~dbamman/nlp20.html \\n[4] Applied Natural Language Processing, David Bamman, Fall 2021: \\nhttps://people.ischool.berkeley.edu/~dbamman/info256.html \\n \\n9. PHẦN MỀM HAY CÔNG CỤ HỖ TRỢ THỰC HÀNH \\n- Google Colab, Kaggle \\n- Ngôn ngữ lập trình Python \\n10. Ngày phê duyệt: \\n11. Cấp phê duyệt: Bộ môn Tính toán Đa phương tiện. \\n \\n \\nTrưởng bộ môn \\n(Ký và ghi rõ họ tên) \\n \\n \\n \\nNgô Đức Thành \\n Tp.HCM, ngày 12 tháng 01 năm 2023 \\nGiảng viên biên soạn \\n(Ký và ghi rõ họ tên) \\n \\n \\n \\nNguyễn Thị Quý')]\n"
     ]
    }
   ],
   "source": [
    "print(documents)"
   ]
  },
  {
   "cell_type": "code",
   "execution_count": null,
   "id": "98b20b16",
   "metadata": {},
   "outputs": [],
   "source": [
    "text_splitter = RecursiveCharacterTextSplitter(\n",
    "        chunk_size=1000, chunk_overlap=200, length_function=len\n",
    ")"
   ]
  },
  {
   "cell_type": "code",
   "execution_count": 8,
   "id": "a4121c36",
   "metadata": {},
   "outputs": [
    {
     "name": "stdout",
     "output_type": "stream",
     "text": [
      "<langchain_text_splitters.character.RecursiveCharacterTextSplitter object at 0x71bea44f9d10>\n"
     ]
    }
   ],
   "source": [
    "print(text_splitter)"
   ]
  },
  {
   "cell_type": "code",
   "execution_count": 9,
   "id": "77a5c9ce",
   "metadata": {},
   "outputs": [
    {
     "name": "stdout",
     "output_type": "stream",
     "text": [
      "[Document(metadata={'producer': 'Microsoft® Word 2016', 'creator': 'Microsoft® Word 2016', 'creationdate': '2023-05-15T12:15:47+07:00', 'author': 'Tien Dung Mai', 'moddate': '2023-05-15T12:15:47+07:00', 'source': '/home/minsun/Documents/Implementing Project/CS431.P22/CS221.P12.pdf', 'total_pages': 6, 'page': 0, 'page_label': '1'}, page_content='1 \\n \\n \\n \\nĐẠI HỌC QUỐC GIA TP. HỒ CHÍ MINH \\nTRƯỜNG ĐẠI HỌC CÔNG NGHỆ THÔNG TIN \\n \\n \\n \\nĐỀ CƯƠNG MÔN HỌC \\n \\nMôn: XỬ LÝ NGÔN NGỮ TỰ NHIÊN \\n(Tiếng Anh:  NATURAL LANGUAGE PROCESSING) \\n \\nChương trình đào tạo:  \\nCử nhân Trí tuệ nhân tạo; \\nCử nhân Khoa học máy tính. \\n \\n(Bản Cập nhật tháng 01 năm 2023) \\n \\n \\n \\n \\nNgười biên soạn: Nguyễn Thị Quý \\n \\n \\n \\nTP. HCM – 2023'), Document(metadata={'producer': 'Microsoft® Word 2016', 'creator': 'Microsoft® Word 2016', 'creationdate': '2023-05-15T12:15:47+07:00', 'author': 'Tien Dung Mai', 'moddate': '2023-05-15T12:15:47+07:00', 'source': '/home/minsun/Documents/Implementing Project/CS431.P22/CS221.P12.pdf', 'total_pages': 6, 'page': 1, 'page_label': '2'}, page_content='1 \\n \\n1. THÔNG TIN CHUNG  \\n 1.1 Thông tin về giảng viên: \\n- Họ và tên: Nguyễn Thị Quý \\n- Chức danh, học vị: Tiến sĩ. \\n- Email: quynt@uit.edu.vn \\n 1.2. Thông tin về môn học \\nTên môn học (tiếng Việt): Xử lý ngôn ngữ tự nhiên   \\nTên môn học (tiếng Anh): Natural Language Processing  \\nMã môn học: CS221  \\nThuộc khối kiến thức: Đại cương □; Cơ sở nhóm ngành □;  \\nCơ sở ngành □; Chuyên ngành ☑;  \\nTốt nghiệp □ \\n \\nKhoa/Bộ môn phụ trách: Khoa Khoa học Máy tính  \\nGiảng viên phụ trách biên \\nsoạn: \\nTS. Nguyễn Thị Quý \\n  \\n \\nSố tín chỉ: 4  \\nLý thuyết:  3  \\nThực hành:  1  \\nMôn học tiên quyết:   \\nMôn học trước:  Nhập môn lập trình (IT001),  \\nĐại số tuyến tính (MA003),  \\nCấu trúc rời rạc (MA004) \\n \\n2. MÔ TẢ MÔN HỌC  \\nXử lý ngôn ngữ tự nhiên (NLP) nghiên cứu kết hợp hai lĩnh vực Ngôn ngữ học và Khoa học \\nmáy tính nhằm giúp máy tính có thể hiểu ngôn ngữ như con người. Môn học này giới thiệu \\nđến sinh viên những phương thức, thuật toán cơ bản được sử dụng trong nhiều bài toán NLP'), Document(metadata={'producer': 'Microsoft® Word 2016', 'creator': 'Microsoft® Word 2016', 'creationdate': '2023-05-15T12:15:47+07:00', 'author': 'Tien Dung Mai', 'moddate': '2023-05-15T12:15:47+07:00', 'source': '/home/minsun/Documents/Implementing Project/CS431.P22/CS221.P12.pdf', 'total_pages': 6, 'page': 1, 'page_label': '2'}, page_content='máy tính nhằm giúp máy tính có thể hiểu ngôn ngữ như con người. Môn học này giới thiệu \\nđến sinh viên những phương thức, thuật toán cơ bản được sử dụng trong nhiều bài toán NLP \\nnhư phân tích cảm xúc, gán nhãn chuỗi, phân tích cú pháp, …  Sinh viên sẽ thực hành áp \\ndụng các thuật toán này trên ngữ liệu để tạo ra các công cụ NLP. \\n3. MỤC TIÊU VÀ CHUẨN ĐẦU RA MÔN HỌC \\n3.1 Mục tiêu môn học: \\n3.1.1. Mục tiêu chung: Trang bị cho người học những kiến thức cơ bản về một số \\nbài toán NLP.'), Document(metadata={'producer': 'Microsoft® Word 2016', 'creator': 'Microsoft® Word 2016', 'creationdate': '2023-05-15T12:15:47+07:00', 'author': 'Tien Dung Mai', 'moddate': '2023-05-15T12:15:47+07:00', 'source': '/home/minsun/Documents/Implementing Project/CS431.P22/CS221.P12.pdf', 'total_pages': 6, 'page': 2, 'page_label': '3'}, page_content='2 \\n \\n3.1.2. Mục tiêu cụ thể \\nSau khi hoàn thành môn học này người học có thể có được các khả năng sau: \\nKý hiệu Mục tiêu môn học \\nCG1 \\nHiểu và nắm vững các khái niệm, các thuật toán, kiến thức tổng quan về \\nNLP. \\nCG2 Áp dụng các thuật toán để xây dựng ứng dụng NLP. \\nCG3 \\nSử dụng các thư viện như NLTK, Gensim, Scikit-learn để xây dựng ứng \\ndụng NLP viết bằng ngôn ngữ lập trình Python \\nCG4 Rèn luyện ngoại ngữ và các kỹ năng nghiên cứu khoa học, làm việc nhóm \\n \\n 3.2 Chuẩn đầu ra. \\nSau khi hoàn thành môn học này, sinh viên có thể: \\n \\nCĐR\\nMH Mô tả CĐRMH \\nÁnh xạ \\nCĐR CTĐT \\nCấp độ \\nCĐRMH về \\nNT, KN, TĐ \\nCLO1 \\nĐánh giá được ưu điểm và nhược điểm của \\ntừng thuật toán máy học áp dụng trên bài \\ntoán NLP. \\nLO3.4 KN4 \\nCLO2 Biết cách chọn đặc trưng, thuật toán máy học \\nphù hợp để giải quyết bài toán NLP cụ thể. \\nLO3.3, \\nLO3.4 KN4 \\nCLO3 Biết cách đánh giá độ chính xác bài toán \\nNLP cụ thể. \\nLO2.2, \\nLO4.3 NT3, KN4 \\nCLO4 \\nVận dụng các kỹ năng của nghiên cứu khoa'), Document(metadata={'producer': 'Microsoft® Word 2016', 'creator': 'Microsoft® Word 2016', 'creationdate': '2023-05-15T12:15:47+07:00', 'author': 'Tien Dung Mai', 'moddate': '2023-05-15T12:15:47+07:00', 'source': '/home/minsun/Documents/Implementing Project/CS431.P22/CS221.P12.pdf', 'total_pages': 6, 'page': 2, 'page_label': '3'}, page_content='phù hợp để giải quyết bài toán NLP cụ thể. \\nLO3.3, \\nLO3.4 KN4 \\nCLO3 Biết cách đánh giá độ chính xác bài toán \\nNLP cụ thể. \\nLO2.2, \\nLO4.3 NT3, KN4 \\nCLO4 \\nVận dụng các kỹ năng của nghiên cứu khoa \\nhọc như đọc bài báo khoa học, thuyết trình, \\nđặt câu hỏi. \\nLO6.2, \\nLO5.2, \\nLO7.1 \\nKN3 \\nCLO5 \\nCài đặt một ứng dụng NLP sử dụng các thư \\nviện như NLTK, Gensim, Scikit-learn, viết \\nbằng ngôn ngữ lập trình Python. \\nLO4.1, \\nLO2.1 KN4 \\nCLO6 Có thái độ, quan điểm và nhận thức đúng đắn \\nvề môn học LO8.2 KN2'), Document(metadata={'producer': 'Microsoft® Word 2016', 'creator': 'Microsoft® Word 2016', 'creationdate': '2023-05-15T12:15:47+07:00', 'author': 'Tien Dung Mai', 'moddate': '2023-05-15T12:15:47+07:00', 'source': '/home/minsun/Documents/Implementing Project/CS431.P22/CS221.P12.pdf', 'total_pages': 6, 'page': 3, 'page_label': '4'}, page_content='3 \\n \\n \\n3.3 Mối quan hệ giữa Mục tiêu và Chuẩn đầu ra: \\nMối quan hệ giữa mục tiêu môn học và chuẩn đầu ra môn học được thể hiện trong ma \\ntrận sau: \\nCác thành phần Mục tiêu Chuẩn đầu ra \\nKiến thức CG1 CLO1, CLO2 \\nKỹ năng CG2, CG3 CLO5, CLO3, CLO4 \\nThái độ CG4 CLO6 \\n \\n4. YÊU CẦU ĐỐI VỚI NGƯỜI HỌC \\n- Dự lớp đầy đủ; \\n- Tham gia tích cực, nghiêm túc các hoạt động thảo luận, thực hành học tập \\ntrên lớp theo yêu cầu và tích cực tự nghiên cứu nội dung môn học theo \\nhướng dẫn; \\n- Thực hiện các bài tập kiểm tra đầy đủ và đúng thời gian quy định. \\n5. NỘI DUNG MÔN HỌC, KẾ HOẠCH GIẢNG DẠY  \\n \\nBuổi Nội dung giảng dạy CĐRMH Hoạt động \\ndạy và học \\nThành \\nphần \\nđánh giá \\n1 Giới thiệu về môn học  \\n- các nội dung giảng dạy \\n- phương pháp học  \\n- tài nguyên học tập \\n- đánh giá môn học  \\nGiới thiệu tổng quan về một số \\nbài toán NLP cơ bản, NLP \\napplications, ngữ liệu \\nCLO1, CLO4  A3 \\n2-4 Phân loại văn bản (t ext \\nclassification): \\nCLO2, CLO3, \\nCLO4, CLO5, \\nCLO6 \\n A3, A4'), Document(metadata={'producer': 'Microsoft® Word 2016', 'creator': 'Microsoft® Word 2016', 'creationdate': '2023-05-15T12:15:47+07:00', 'author': 'Tien Dung Mai', 'moddate': '2023-05-15T12:15:47+07:00', 'source': '/home/minsun/Documents/Implementing Project/CS431.P22/CS221.P12.pdf', 'total_pages': 6, 'page': 4, 'page_label': '5'}, page_content='4 \\n \\n- Sentiment analysis using \\nNaive Bayes , Logistic \\nregression \\n- Feedforward neural \\nnetwork \\n5, 6 \\n \\nVector semantics and static word \\nembeddings \\nCLO2, CLO3, \\nCLO4, CLO5, \\nCLO6 \\n A3, A4 \\n7, 8 Mô hình ngôn ngữ (l anguage \\nmodeling): \\n- N-gram model \\n- Recurrent neural network  \\n(RNN) \\nCLO2, CLO3, \\nCLO4, CLO5, \\nCLO6 \\n A3, A4 \\n9-11 Gán nhãn chuỗi (sequence \\nlabeling problems):  \\n- POS tagging , n amed-\\nentity recognition  (HMM, \\nMEMM, CRF) \\n- Neural sequence labeling \\nCLO2, CLO3, \\nCLO4, CLO5, \\nCLO6 \\n A3, A4 \\n12-14 Phân tích cú pháp (syntax and \\nparsing) \\n- Context-free syntax  \\n- Context-free parsing \\nalgorithms \\n- Dependency parsing  \\nCLO2, CLO3, \\nCLO4, CLO5, \\nCLO6 \\n A3, A4 \\n15 Ôn tập CLO2, CLO3, \\nCLO4, CLO5, \\nCLO6 \\n A3 \\n6. PHƯƠNG PHÁP VÀ PHƯƠNG TIỆN DẠY HỌC \\n- Phương pháp giảng dạy chủ yếu: trình bày các kiến thức nền tảng, hướng dẫn \\nnghiên cứu tài liệu; hướng dẫn thực hành và diễn giải theo chủ đề. \\n- Học liệu: các nguồn tài liệu được sử dụng trên lớp và máy chiếu các slides.'), Document(metadata={'producer': 'Microsoft® Word 2016', 'creator': 'Microsoft® Word 2016', 'creationdate': '2023-05-15T12:15:47+07:00', 'author': 'Tien Dung Mai', 'moddate': '2023-05-15T12:15:47+07:00', 'source': '/home/minsun/Documents/Implementing Project/CS431.P22/CS221.P12.pdf', 'total_pages': 6, 'page': 5, 'page_label': '6'}, page_content='5 \\n \\n7. ĐÁNH GIÁ MÔN HỌC (Course assessment) \\n \\n Thời điểm \\nkiểm tra \\nHình thức \\nKTĐG \\nCông cụ \\nTĐG \\nTrọng \\nsố \\nThang \\nđiểm \\nTiêu chí đánh giá  \\nA1 Quá trình       \\nA2 Giữa kỳ      \\nA3 Thực hành \\nBài tập thực \\nhành \\n 50% 10 \\nSinh viên thuyết trình \\ngiải pháp và cài đặt \\nchương trình minh họa. \\nA4 Cuối kỳ Đồ án cuối kỳ  50% 10  \\n8. TÀI LIỆU THAM KHẢO \\n[1] Speech and Language Processing (3rd ed. draft), Dan Jurafsky and James H. \\nMartin,  2021: https://web.stanford.edu/~jurafsky/slp3/ \\n[2] Natural Language Processing, Jacob Eisenstein, 2018 \\n[3] Natural Language Processing, David Bamman, Spring 2020: \\nhttps://people.ischool.berkeley.edu/~dbamman/nlp20.html \\n[4] Applied Natural Language Processing, David Bamman, Fall 2021: \\nhttps://people.ischool.berkeley.edu/~dbamman/info256.html \\n \\n9. PHẦN MỀM HAY CÔNG CỤ HỖ TRỢ THỰC HÀNH \\n- Google Colab, Kaggle \\n- Ngôn ngữ lập trình Python \\n10. Ngày phê duyệt: \\n11. Cấp phê duyệt: Bộ môn Tính toán Đa phương tiện. \\n \\n \\nTrưởng bộ môn'), Document(metadata={'producer': 'Microsoft® Word 2016', 'creator': 'Microsoft® Word 2016', 'creationdate': '2023-05-15T12:15:47+07:00', 'author': 'Tien Dung Mai', 'moddate': '2023-05-15T12:15:47+07:00', 'source': '/home/minsun/Documents/Implementing Project/CS431.P22/CS221.P12.pdf', 'total_pages': 6, 'page': 5, 'page_label': '6'}, page_content='9. PHẦN MỀM HAY CÔNG CỤ HỖ TRỢ THỰC HÀNH \\n- Google Colab, Kaggle \\n- Ngôn ngữ lập trình Python \\n10. Ngày phê duyệt: \\n11. Cấp phê duyệt: Bộ môn Tính toán Đa phương tiện. \\n \\n \\nTrưởng bộ môn \\n(Ký và ghi rõ họ tên) \\n \\n \\n \\nNgô Đức Thành \\n Tp.HCM, ngày 12 tháng 01 năm 2023 \\nGiảng viên biên soạn \\n(Ký và ghi rõ họ tên) \\n \\n \\n \\nNguyễn Thị Quý')]\n"
     ]
    }
   ],
   "source": [
    "texts = text_splitter.split_documents(documents)\n",
    "print(texts)"
   ]
  },
  {
   "cell_type": "code",
   "execution_count": null,
   "id": "46e5f7a5",
   "metadata": {},
   "outputs": [],
   "source": []
  }
 ],
 "metadata": {
  "kernelspec": {
   "display_name": "RAG_test",
   "language": "python",
   "name": "python3"
  },
  "language_info": {
   "codemirror_mode": {
    "name": "ipython",
    "version": 3
   },
   "file_extension": ".py",
   "mimetype": "text/x-python",
   "name": "python",
   "nbconvert_exporter": "python",
   "pygments_lexer": "ipython3",
   "version": "3.11.8"
  }
 },
 "nbformat": 4,
 "nbformat_minor": 5
}
